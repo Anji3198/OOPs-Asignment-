{
  "nbformat": 4,
  "nbformat_minor": 0,
  "metadata": {
    "colab": {
      "provenance": []
    },
    "kernelspec": {
      "name": "python3",
      "display_name": "Python 3"
    },
    "language_info": {
      "name": "python"
    }
  },
  "cells": [
    {
      "cell_type": "markdown",
      "source": [
        "#**Theory Questions**"
      ],
      "metadata": {
        "id": "LqUTUFx9yISk"
      }
    },
    {
      "cell_type": "markdown",
      "source": [
        "1 - What is Object-Oriented Programming (OOP)?\n",
        "- Object-Oriented Programming (OOP) is a programming paradigm based on the concept of \"objects\", which contain data (attributes) and methods (functions). It focuses on organizing code using classes and promotes principles like encapsulation, inheritance, polymorphism, and abstraction to create reusable and modular code."
      ],
      "metadata": {
        "id": "y_hnd9KcyOsW"
      }
    },
    {
      "cell_type": "markdown",
      "source": [
        "2 - What is a class in OOP?\n",
        "- A class in Object-Oriented Programming (OOP) is a blueprint or template for creating objects. It defines the attributes (data) and methods (functions) that the objects created from the class will have."
      ],
      "metadata": {
        "id": "QwQP378szmyE"
      }
    },
    {
      "cell_type": "markdown",
      "source": [
        "3 - What is an object in OOP?\n",
        "- An object in Object-Oriented Programming (OOP) is an instance of a class. It’s a concrete entity that has attributes (data) and can perform methods (functions) defined by its class."
      ],
      "metadata": {
        "id": "bAnZOFx90BOk"
      }
    },
    {
      "cell_type": "markdown",
      "source": [
        "4 - What is the difference between abstraction and encapsulation?\n",
        "- Abstraction:\n",
        "  - It focuses on hiding complexity and showing only the essential features.\n",
        "  - It simplifies how you interact with an object.\n",
        "  - Example: when driving a car only steering wheel and pedals are used, we do not need to know how the engine works.\n",
        "\n",
        "- Encapsulation:\n",
        " - It focuses on hiding the internal state and requireing all interaction to be done through an object methods.\n",
        " - It protect data and ensure controlled access.\n",
        " - Example: The car's engine is hidden under the hood and you  interact with it only through car's control."
      ],
      "metadata": {
        "id": "R4IGue-i0XhF"
      }
    },
    {
      "cell_type": "markdown",
      "source": [
        "5 - What are dunder methods in Python?\n",
        "- Dunder methods (short for double underscore methods) are special methods in Python with names like`__init`_,`___str__,__len__`, etc. They let you define how your objects behave with built-in functions and operators."
      ],
      "metadata": {
        "id": "wYxOkvQ91lUm"
      }
    },
    {
      "cell_type": "markdown",
      "source": [
        "6 - Explain the concept of inheritance in OOP?\n",
        "- Inheritance lets you create new classes based on existing ones, reducing repetition and improving structure.\n",
        "- It promotes code reuse and helps to create a hierarchy between clasess."
      ],
      "metadata": {
        "id": "3jSZM-T22A_E"
      }
    },
    {
      "cell_type": "markdown",
      "source": [
        "7 - What is polymorphism in OOP?\n",
        "- Polymorphism lets you write flexible and reusable code by using a single interface for different types of objects.\n",
        "- Different objects can use the same method name, but each one can have its own implementation."
      ],
      "metadata": {
        "id": "c7ZzKxP22oT4"
      }
    },
    {
      "cell_type": "markdown",
      "source": [
        "8 -  How is encapsulation achieved in Python?\n",
        "- Encapsulation in Python is done by hiding data using private attributes and controlling access through methods.\n",
        "- Example:\n",
        "  - class Person:\n",
        "    def __init__(self, name):\n",
        "        self.__name = name  # private attribute\n",
        "\n",
        "    def get_name(self):     # getter\n",
        "        return self.__name"
      ],
      "metadata": {
        "id": "14B3KKk52z8r"
      }
    },
    {
      "cell_type": "markdown",
      "source": [
        "9 - What is a constructor in Python?\n",
        "- A constructor in Python is a special method called`__init__()` that runs automatically when you create a new object from a class.\n",
        "- It’s used to initialize the object’s attributes."
      ],
      "metadata": {
        "id": "1pgJ2hfi3KCK"
      }
    },
    {
      "cell_type": "markdown",
      "source": [
        "10 - What are class and static methods in Python?\n",
        "- Class method (@classmethod): It takes `cls` as the first argument(not self). It can alsp access or modify class level data.\n",
        "- Stattic method (@static method): It does not take `self` or `cls` and acts like a regular function and it just lives inside the claas. It is used when the method doesn't need class or instance data."
      ],
      "metadata": {
        "id": "lsWzpKco-U24"
      }
    },
    {
      "cell_type": "markdown",
      "source": [
        "11 - What is method overloading in Python?\n",
        "- Method overloading in Python means defining a method that can handle different numbers or types of arguments.It does not support traditional method overloading like other languages. If you define multiple methods with the same name, the last one replaces the others.\n",
        "- Use default arguments or `*args / **kwargs` to simulate overloading."
      ],
      "metadata": {
        "id": "gnnoCZgn_hh-"
      }
    },
    {
      "cell_type": "markdown",
      "source": [
        "12 - What is method overriding in OOP?\n",
        "- Method Overriding in OOP is when a subclass provide a specific implementation of a method that is already defined in its superclass. It allows the subclass to customize or replace the behavior of the inherited method."
      ],
      "metadata": {
        "id": "JftNek4AAdWt"
      }
    },
    {
      "cell_type": "markdown",
      "source": [
        "13 - What is a property decorator in Python?\n",
        "- It is used to define a method as a read - only attribute. It lets you access a amethod like an attribute, without using parentheses.\n",
        "Defined as @property.\n",
        "\n"
      ],
      "metadata": {
        "id": "moBIJOrpk1qQ"
      }
    },
    {
      "cell_type": "markdown",
      "source": [
        "14 - Why is polymorphism important in OOP?\n",
        "- It is important because it allows different classes to be treated as if they were the same type.\n",
        "- It write general code that works with many types.\n",
        "- It easily add new classes without changing exisiting code.\n",
        "- It enable cleaner and more readable logic using common method names."
      ],
      "metadata": {
        "id": "PnkgI9zMl38X"
      }
    },
    {
      "cell_type": "markdown",
      "source": [
        "15 - What is an abstract class in Python?\n",
        "- It is class that cannot be instantiated directly and is used as blueprint for other classes. It can have abstract methods that must be implemented in any subclass.\n",
        "- It is defined using the `ABC` module `'(from abc import ABC, abstractmethod)'`\n",
        "- It enforces method implementation in child classes."
      ],
      "metadata": {
        "id": "Mfu8i0BTmj7q"
      }
    },
    {
      "cell_type": "markdown",
      "source": [
        "16 - What are the advantages of OOP?\n",
        "- Code is organized into classes/objects, making it easier to manage, understand and reuse.\n",
        "- It uses existing classes to create new ones via inheritance, reducing duplication.\n",
        "- Data and methods are bundled together, allowing better data protection and controlled access.\n",
        "- It write flexible and generic code that works with different object types using a common interface.\n",
        "- It easily extend functionality without modifying existing code - perfect for long term maintenance.\n",
        "- It is well structure, moduclar code is easier to test, debug and update.\n"
      ],
      "metadata": {
        "id": "uL5Cqbu0nfXW"
      }
    },
    {
      "cell_type": "markdown",
      "source": [
        "17 - What is the difference between a class variable and an instance variable?\n",
        "- **Class Variable**\n",
        "  - It is defined class body(outside any method).\n",
        "  - It belongs to class itself.\n",
        "  - It is shared by all intsnace of class.\n",
        "  - It is accessed with `classname.var` or `object.var`\n",
        "  - Is used as common data across all objects (e.g. count)\n",
        "\n",
        "- **Instance Variable**\n",
        "  - It is defined inside `__init__` or other instanc methods.\n",
        "  - It belongs to individual object.\n",
        "  - it is shared unique to each instance.\n",
        "  - It is accessed with `object.var`\n",
        "  - It is used as Object - specified data (e.g name, age)\n",
        "\n",
        "  "
      ],
      "metadata": {
        "id": "-1T9Mbowottg"
      }
    },
    {
      "cell_type": "markdown",
      "source": [
        "18 -  What is multiple inheritance in Python?\n",
        "- Multiple inheritance means a class can inherit from more than one parent class. This allows the child class to access attribute and methods from all its parent classes."
      ],
      "metadata": {
        "id": "vwNHw3y9qmZd"
      }
    },
    {
      "cell_type": "markdown",
      "source": [
        "19 - Explain the purpose of ‘’__str__’ and ‘__repr__’ ‘ methods in Python?\n",
        "- `__str__`\n",
        "  - User fiendly string\n",
        "  - caled by print() or str()\n",
        "  - meant to be readable and descriptive\n",
        "  - for end user.\n",
        "\n",
        "- `__repr__`\n",
        "  - Developer Friendly String\n",
        "  - It is calld by repr() or when printing in a shell\n",
        "  - should return a valid pythin expression (ideally)\n",
        "  - for debugging and development"
      ],
      "metadata": {
        "id": "pLoGnCexrAud"
      }
    },
    {
      "cell_type": "markdown",
      "source": [
        "20 -  What is the significance of the ‘super()’ function in Python?\n",
        "- Allows you to reuse code from the parent class.\n",
        "\n",
        "- Supports clean and maintainable inheritance chains.\n",
        "\n",
        "- Especially useful in multiple inheritance to follow the Method Resolution Order (MRO) properly."
      ],
      "metadata": {
        "id": "eGRmpnqckDP0"
      }
    },
    {
      "cell_type": "markdown",
      "source": [
        "21 - What is the significance of the `__del__ `method in Python?\n",
        "- The `__del__` method in Python is a destructor method, called when an object is about to be destroyed or garbage collected. It allows you to define custom cleanup behavior for your object before it is removed from memory.\n",
        "- `__del__` helps to manage the cleanup of resources, but manual resource management (like close()) is often more reliable than relying on automatic garbage collection."
      ],
      "metadata": {
        "id": "BKdO7pyqseST"
      }
    },
    {
      "cell_type": "markdown",
      "source": [
        "22 - What is the difference between @staticmethod and @classmethod in Python?\n",
        "- @staticmethod:\n",
        "\n",
        "  - No access to class or instance.\n",
        "\n",
        "  - Used for utility functions that don't need class/instance data.\n",
        "\n",
        "  - Example: Functions that don't depend on the object or class.\n",
        "\n",
        "- @classmethod:\n",
        "\n",
        "   - Has access to the class (cls), but not the instance (self).\n",
        "\n",
        "   - Used for methods that operate on class-level data or need to modify class attributes.\n",
        "\n",
        "   - Example: Factory methods or methods that modify class state."
      ],
      "metadata": {
        "id": "pCC1xsdxtHEv"
      }
    },
    {
      "cell_type": "markdown",
      "source": [
        "23 - How does polymorphism work in Python with inheritance?\n",
        "- Polymorphism in Python allows objects of different classes to be treated as objects of a common parent class, with each class implementing its own version of a method.\n",
        "- Subclasses can define their own versions of methods from the parent class.\n",
        "- Python calls the appropriate method based on the actual object type (not the reference type)."
      ],
      "metadata": {
        "id": "55_dvGJkt2uH"
      }
    },
    {
      "cell_type": "markdown",
      "source": [
        "24 - What is method chaining in Python OOP?\n",
        "- Method chaining in Python is when multiple methods are called on the same object in a single line. It works by each method returning the object itself (self), allowing subsequent methods to be called on it."
      ],
      "metadata": {
        "id": "pJE11soGuSmE"
      }
    },
    {
      "cell_type": "markdown",
      "source": [
        "25 - What is the purpose of the `__call__` method in Python?\n",
        "- The __call__ method in Python allows an object to be called like a function. It enables custom behavior when an object is invoked using parentheses, just like a function."
      ],
      "metadata": {
        "id": "T0Oadmr8ul0i"
      }
    },
    {
      "cell_type": "markdown",
      "source": [
        "#**Practical Questions**"
      ],
      "metadata": {
        "id": "uUTJSZoFd9oo"
      }
    },
    {
      "cell_type": "code",
      "source": [
        "# 1-  Create a parent class Animal with a method speak() that prints a generic message. Create a child class Dog that overrides the speak() method to print \"Bark!\"."
      ],
      "metadata": {
        "id": "JcEuUzLxeCpb"
      },
      "execution_count": null,
      "outputs": []
    },
    {
      "cell_type": "code",
      "source": [
        "class Animal:\n",
        "  def speak(self):\n",
        "    print(\"Generic Animal Sound\")\n",
        "\n",
        "class Dog(Animal):\n",
        "  def speak(self):\n",
        "    print(\"Bark!\")\n",
        "\n",
        "animal = Animal()\n",
        "animal.speak()  # Output: Generic Animal Sound\n",
        "\n",
        "dog = Dog()\n",
        "dog.speak()"
      ],
      "metadata": {
        "colab": {
          "base_uri": "https://localhost:8080/"
        },
        "id": "lItOiEBDePri",
        "outputId": "83da6eb9-9887-4218-e338-2add2bb59abb"
      },
      "execution_count": null,
      "outputs": [
        {
          "output_type": "stream",
          "name": "stdout",
          "text": [
            "Generic Animal Sound\n",
            "Bark!\n"
          ]
        }
      ]
    },
    {
      "cell_type": "code",
      "source": [
        "# 2 - Write a program to create an abstract class Shape with a method area(). Derive classes Circle and Rectangle from it and implement the area() method in both.\n",
        "\n",
        "from abc import ABC , abstractmethod\n",
        "import math\n",
        "\n",
        "class Shape(ABC):\n",
        "\n",
        "  @abstractmethod\n",
        "  def area(self):\n",
        "    pass\n",
        "\n",
        "class circle(Shape):\n",
        "  def __init__(self, radius):\n",
        "    self.radius = radius\n",
        "\n",
        "  def area(self):\n",
        "    return 3.14159 * self.radius ** 2\n",
        "\n",
        "class Rectangle(Shape):\n",
        "  def __init__(self, width, height):\n",
        "    self.width = width\n",
        "    self.height = height\n",
        "\n",
        "  def area(self):\n",
        "    return self.width * self.height\n",
        "\n",
        "circle = circle(5)\n",
        "rectangle = Rectangle(4, 6)\n",
        "\n",
        "print(\"Circle Area:\", circle.area())\n",
        "print(\"Rectangle Area:\", rectangle.area())"
      ],
      "metadata": {
        "colab": {
          "base_uri": "https://localhost:8080/"
        },
        "id": "BIY2fLV7e_pZ",
        "outputId": "32e25bea-c076-4f29-bf68-b3b40a9be934"
      },
      "execution_count": null,
      "outputs": [
        {
          "output_type": "stream",
          "name": "stdout",
          "text": [
            "Circle Area: 78.53975\n",
            "Rectangle Area: 24\n"
          ]
        }
      ]
    },
    {
      "cell_type": "code",
      "source": [
        "# 3 -  Implement a multi-level inheritance scenario where a class Vehicle has an attribute type. Derive a class Car and further derive a class ElectricCar that adds a battery attribute.\n",
        "\n",
        "class Vehicle:\n",
        "  def __init__(self, type):\n",
        "    self.type = type\n",
        "\n",
        "class Car(Vehicle):\n",
        "  def __init__(self, type, model):\n",
        "    super().__init__(type)\n",
        "    self.model = model\n",
        "\n",
        "class ElectricCar(Car):\n",
        "  def __init__(self, type, model, battery):\n",
        "    super().__init__(type, model)\n",
        "    self.battery = battery\n",
        "\n",
        "electric_car = ElectricCar(\"Electric\", \"Tesla Model S\", \"75 kWh\")\n",
        "print (f\"Vehicle type: {electric_car.type}\")\n",
        "print (f\"Car model: {electric_car.model}\")\n",
        "print (f\"Electric car battery: {electric_car.battery}\")\n"
      ],
      "metadata": {
        "colab": {
          "base_uri": "https://localhost:8080/"
        },
        "id": "4lOGGlWKiL3W",
        "outputId": "5ef2285d-c950-438d-b90d-81794e122ff8"
      },
      "execution_count": null,
      "outputs": [
        {
          "output_type": "stream",
          "name": "stdout",
          "text": [
            "Vehicle type: Electric\n",
            "Car model: Tesla Model S\n",
            "Electric car battery: 75 kWh\n"
          ]
        }
      ]
    },
    {
      "cell_type": "code",
      "source": [
        "# 4 -  Demonstrate polymorphism by creating a base class Bird with a method fly(). Create two derived classes Sparrow and Penguin that override the fly() method.\n",
        "\n",
        "class Bird:\n",
        "  def fly(self):\n",
        "    print(\"Bird flies\")\n",
        "\n",
        "class Sparrow(Bird):  #derived class\n",
        "  def fly(self):\n",
        "    print(\"Sparrow flies high\")\n",
        "\n",
        "class Penguin(Bird):  #derived class\n",
        "  def fly(self):\n",
        "    print(\"Penguin cannot fly, but they can swim!\")\n",
        "\n",
        "if __name__ == \"__main__\":\n",
        "    a = Sparrow()\n",
        "    b = Penguin()\n",
        "\n",
        "    a.fly()  # Output: Sparrow flies high\n",
        "    b.fly()  # Output: Penguin cannot fly, but they can swim!\n",
        "\n"
      ],
      "metadata": {
        "colab": {
          "base_uri": "https://localhost:8080/"
        },
        "id": "2CvWIYlTjHqM",
        "outputId": "1a6efb29-b222-40d6-dd32-5ee80a13b01b"
      },
      "execution_count": null,
      "outputs": [
        {
          "output_type": "stream",
          "name": "stdout",
          "text": [
            "Sparrow flies high\n",
            "Penguin cannot fly, but they can swim!\n"
          ]
        }
      ]
    },
    {
      "cell_type": "code",
      "source": [
        "# 5 - Write a program to demonstrate encapsulation by creating a class BankAccount with private attribute balance and methods to deposit, withdraw, and check balance.\n",
        "\n",
        "class Bankaccount:\n",
        "  def __init__(self,inital_balance = 0):\n",
        "    self.__balance = inital_balance\n",
        "\n",
        "  def deposit(self, amount):\n",
        "    if amount > 0:\n",
        "      self.__balance += amount\n",
        "      print(f\"Deposited: ${amount}\")\n",
        "    else:\n",
        "      print(\"Deposit amount must be positive.\")\n",
        "\n",
        "  def withdraw(self, amount):\n",
        "    if amount > 0 and amount <= self.__balance:\n",
        "      self.__balance -= amount\n",
        "      print(f\"Withdrawn: ${amount}\")\n",
        "    else:\n",
        "      print(\"Invalid withdrawal amount.\")\n",
        "\n",
        "  def check_balance(self):\n",
        "    print(f\"Current Balance: ${self.__balance}\")\n",
        "    return self.__balance\n",
        "\n",
        "account = Bankaccount(1000)\n",
        "account.check_balance()  # Output: Current Balance: $1000\n",
        "account.deposit(500)     # Output: Deposited: $500\n",
        "account.withdraw(200)   # Output: Withdrawn: $200\n",
        "account.check_balance()  # Output: Current Balance: $1300\n",
        "account.withdraw(1500)   # Output: Invalid withdrawal amount.\n",
        "account.check_balance()"
      ],
      "metadata": {
        "colab": {
          "base_uri": "https://localhost:8080/"
        },
        "id": "mhrFnWbBlOKd",
        "outputId": "f79852ce-551f-41dc-b18c-9de0e82b000f"
      },
      "execution_count": null,
      "outputs": [
        {
          "output_type": "stream",
          "name": "stdout",
          "text": [
            "Current Balance: $1000\n",
            "Deposited: $500\n",
            "Withdrawn: $200\n",
            "Current Balance: $1300\n",
            "Invalid withdrawal amount.\n",
            "Current Balance: $1300\n"
          ]
        },
        {
          "output_type": "execute_result",
          "data": {
            "text/plain": [
              "1300"
            ]
          },
          "metadata": {},
          "execution_count": 14
        }
      ]
    },
    {
      "cell_type": "code",
      "source": [
        "# 6 -  Demonstrate runtime polymorphism using a method play() in a base class Instrument. Derive classes Guitar and Piano that implement their own version of play().\n",
        "\n",
        "class instrument:   #base class\n",
        "   def play(self):\n",
        "     print(\"Instrument is playing\")\n",
        "\n",
        "class Guitar(instrument):   #derived class\n",
        "   def play (self):\n",
        "     print(\"Playing the Guitar!\")\n",
        "\n",
        "class Piano(instrument):\n",
        "   def play(self):\n",
        "     print(\"Playing the piano\")\n",
        "\n",
        "guitar = Guitar()\n",
        "guitar.play()\n",
        "\n",
        "piano = Piano()\n",
        "piano.play()\n",
        "\n",
        "instruments = [Guitar(), Piano()]\n",
        "for instrument in instruments:\n",
        "    instrument.play()"
      ],
      "metadata": {
        "colab": {
          "base_uri": "https://localhost:8080/"
        },
        "id": "fJAsJyf3m8aE",
        "outputId": "b95e922b-d7a1-40e8-e58d-16995c6f7402"
      },
      "execution_count": null,
      "outputs": [
        {
          "output_type": "stream",
          "name": "stdout",
          "text": [
            "Playing the Guitar!\n",
            "Playing the piano\n",
            "Playing the Guitar!\n",
            "Playing the piano\n"
          ]
        }
      ]
    },
    {
      "cell_type": "code",
      "source": [
        "# 7 -  Create a class MathOperations with a class method add_numbers() to add two numbers and a static method subtract_numbers() to subtract two numbers.\n",
        "\n",
        "class MathOperations:\n",
        "  @classmethod\n",
        "  def add_numbers(cls, x, y):\n",
        "    return x + y\n",
        "\n",
        "  @staticmethod\n",
        "  def subtract_numbers(x, y):\n",
        "    return x - y\n",
        "\n",
        "result_add = MathOperations.add_numbers(5, 3)\n",
        "print (f\"Addition: {result_add}\")\n",
        "\n",
        "result_subtract = MathOperations.subtract_numbers(5, 3)\n",
        "print (f\"Subtraction: {result_subtract}\")\n"
      ],
      "metadata": {
        "id": "eCBIPtYOWHMi",
        "colab": {
          "base_uri": "https://localhost:8080/"
        },
        "outputId": "01478d7f-7f52-4967-b051-bb5e4818aabe"
      },
      "execution_count": 2,
      "outputs": [
        {
          "output_type": "stream",
          "name": "stdout",
          "text": [
            "Addition: 8\n",
            "Subtraction: 2\n"
          ]
        }
      ]
    },
    {
      "cell_type": "code",
      "source": [
        "# 8-  Implement a class Person with a class method to count the total number of persons created.\n",
        "\n",
        "class person:\n",
        "   count = 0\n",
        "\n",
        "   def __init__(self, name, age):\n",
        "       self.name = name\n",
        "       self.age = age\n",
        "       person.count += 1\n",
        "\n",
        "   @classmethod\n",
        "   def total_persons(cls):\n",
        "        return cls.count\n",
        "\n",
        "person1 = person(\"Alice\", 30)\n",
        "person2 = person(\"Bob\", 25)\n",
        "person3 = person(\"Charlie\", 40)\n",
        "\n",
        "total_persons = person.total_persons()\n",
        "print(f\"Total persons present: {total_persons}\")"
      ],
      "metadata": {
        "colab": {
          "base_uri": "https://localhost:8080/"
        },
        "id": "VenHdoJ1Wt2g",
        "outputId": "daa940fa-dbee-43ac-8c04-5d3bdb12163e"
      },
      "execution_count": 8,
      "outputs": [
        {
          "output_type": "stream",
          "name": "stdout",
          "text": [
            "Total persons present: 3\n"
          ]
        }
      ]
    },
    {
      "cell_type": "code",
      "source": [
        "# 9 Write a class Fraction with attributes numerator and denominator. Override the str method to display the fraction as \"numerator/denominator\".\n",
        "\n",
        "class Fraction:\n",
        "  def __init__(self, numerator, denominator):\n",
        "    self.numerator = numerator\n",
        "    self.denominator = denominator\n",
        "\n",
        "  def __str__(self):\n",
        "    return f\"{self.numerator}/{self.denominator}\"\n",
        "\n",
        "fraction = Fraction(3, 4)\n",
        "print(fraction)  # Output: 3/4\n"
      ],
      "metadata": {
        "colab": {
          "base_uri": "https://localhost:8080/"
        },
        "id": "7MDG4A5FXq9w",
        "outputId": "8eaec282-dfa3-4ee6-e8e2-d5e11b13359b"
      },
      "execution_count": 9,
      "outputs": [
        {
          "output_type": "stream",
          "name": "stdout",
          "text": [
            "3/4\n"
          ]
        }
      ]
    },
    {
      "cell_type": "code",
      "source": [
        "# 10 Demonstrate operator overloading by creating a class Vector and overriding the add method to add two vectors\n",
        "\n",
        "class Vector:\n",
        "    def __init__(self, x, y):\n",
        "        self.x = x\n",
        "        self.y = y\n",
        "\n",
        "    def __add__(self, other):\n",
        "        # Adding corresponding components of two vectors\n",
        "        return Vector(self.x + other.x, self.y + other.y)\n",
        "\n",
        "    def __str__(self):\n",
        "        return f\"Vector({self.x}, {self.y})\"\n",
        "\n",
        "# Example usage\n",
        "v1 = Vector(2, 3)\n",
        "v2 = Vector(4, 1)\n",
        "\n",
        "v3 = v1 + v2  # Uses the __add__ method\n",
        "\n",
        "print(\"First Vector:\", v1)\n",
        "print(\"Second Vector:\", v2)\n",
        "print(\"Sum of Vectors:\", v3)\n"
      ],
      "metadata": {
        "colab": {
          "base_uri": "https://localhost:8080/"
        },
        "id": "yut-gGZXd6Tx",
        "outputId": "93c91755-edca-4b45-f4d3-5e6668e3f901"
      },
      "execution_count": 10,
      "outputs": [
        {
          "output_type": "stream",
          "name": "stdout",
          "text": [
            "First Vector: Vector(2, 3)\n",
            "Second Vector: Vector(4, 1)\n",
            "Sum of Vectors: Vector(6, 4)\n"
          ]
        }
      ]
    },
    {
      "cell_type": "code",
      "source": [
        "# 11 Create a class Person with attributes name and age. Add a method greet() that prints \"Hello, my name is {name} and I am {age} years old.\"\n",
        "\n",
        "class Person:\n",
        "    def __init__(self, name, age):\n",
        "        self.name = name\n",
        "        self.age = age\n",
        "\n",
        "    def greet(self):\n",
        "        print(f\"Hello, my name is {self.name} and I am {self.age} years old.\")\n",
        "\n",
        "# Example usage\n",
        "p1 = Person(\"Alice\", 30)\n",
        "p1.greet()\n",
        "\n",
        "p2 = Person(\"Bob\", 25)\n",
        "p2.greet()\n"
      ],
      "metadata": {
        "colab": {
          "base_uri": "https://localhost:8080/"
        },
        "id": "REzspz6Wenry",
        "outputId": "2b1c5b53-a157-44b5-f68c-8dc1c5501808"
      },
      "execution_count": 11,
      "outputs": [
        {
          "output_type": "stream",
          "name": "stdout",
          "text": [
            "Hello, my name is Alice and I am 30 years old.\n",
            "Hello, my name is Bob and I am 25 years old.\n"
          ]
        }
      ]
    },
    {
      "cell_type": "code",
      "source": [
        " # 12 Implement a class Student with attributes name and grades. Create a method average_grade() to compute the average of the grades.\n",
        "\n",
        "class Student:\n",
        "    def __init__(self, name, grades):\n",
        "        self.name = name\n",
        "        self.grades = grades  # Should be a list of numbers\n",
        "\n",
        "    def average_grade(self):\n",
        "        if not self.grades:\n",
        "            return 0  # Avoid division by zero\n",
        "        return sum(self.grades) / len(self.grades)\n",
        "\n",
        "# Example usage\n",
        "s1 = Student(\"Alice\", [85, 90, 78])\n",
        "s2 = Student(\"Bob\", [92, 88, 79, 95])\n",
        "\n",
        "print(f\"{s1.name}'s average grade: {s1.average_grade():.2f}\")\n",
        "print(f\"{s2.name}'s average grade: {s2.average_grade():.2f}\")\n"
      ],
      "metadata": {
        "colab": {
          "base_uri": "https://localhost:8080/"
        },
        "id": "U8m1Z1o-fOcb",
        "outputId": "b61b6a8e-14bd-46ad-933f-6a9de38ec935"
      },
      "execution_count": 12,
      "outputs": [
        {
          "output_type": "stream",
          "name": "stdout",
          "text": [
            "Alice's average grade: 84.33\n",
            "Bob's average grade: 88.50\n"
          ]
        }
      ]
    },
    {
      "cell_type": "code",
      "source": [
        "# 13  Create a class Rectangle with methods set_dimensions() to set the dimensions and area() to calculate the area.\n",
        "\n",
        "class Rectangle:\n",
        "    def __init__(self):\n",
        "        self.length = 0\n",
        "        self.width = 0\n",
        "\n",
        "    def set_dimensions(self, length, width):\n",
        "        self.length = length\n",
        "        self.width = width\n",
        "\n",
        "    def area(self):\n",
        "        return self.length * self.width\n",
        "\n",
        "# Example usage\n",
        "rect = Rectangle()\n",
        "rect.set_dimensions(5, 3)\n",
        "print(\"Area of the rectangle:\", rect.area())\n"
      ],
      "metadata": {
        "colab": {
          "base_uri": "https://localhost:8080/"
        },
        "id": "m5HnRuevgOBk",
        "outputId": "9b840e80-1570-4139-ee2f-f6f1bf2e8b4a"
      },
      "execution_count": 13,
      "outputs": [
        {
          "output_type": "stream",
          "name": "stdout",
          "text": [
            "Area of the rectangle: 15\n"
          ]
        }
      ]
    },
    {
      "cell_type": "code",
      "source": [
        "# 14  Create a class Employee with a method calculate_salary() that computes the salary based on hours worked\n",
        "# and hourly rate. Create a derived class Manager that adds a bonus to the salary\n",
        "\n",
        "class Employee:\n",
        "    def __init__(self, name, hours_worked, hourly_rate):\n",
        "        self.name = name\n",
        "        self.hours_worked = hours_worked\n",
        "        self.hourly_rate = hourly_rate\n",
        "\n",
        "    def calculate_salary(self):\n",
        "        return self.hours_worked * self.hourly_rate\n",
        "\n",
        "\n",
        "class Manager(Employee):\n",
        "    def __init__(self, name, hours_worked, hourly_rate, bonus):\n",
        "        super().__init__(name, hours_worked, hourly_rate)\n",
        "        self.bonus = bonus\n",
        "\n",
        "    def calculate_salary(self):\n",
        "        base_salary = super().calculate_salary()\n",
        "        return base_salary + self.bonus\n",
        "\n",
        "# Example usage\n",
        "emp = Employee(\"Alice\", 40, 20)\n",
        "print(f\"{emp.name}'s Salary: ${emp.calculate_salary()}\")\n",
        "\n",
        "mgr = Manager(\"Bob\", 40, 30, 500)\n",
        "print(f\"{mgr.name}'s Salary with bonus: ${mgr.calculate_salary()}\")\n"
      ],
      "metadata": {
        "colab": {
          "base_uri": "https://localhost:8080/"
        },
        "id": "AF8_SLjlgkNE",
        "outputId": "13600291-a5a8-4acd-9222-b40dc99feaec"
      },
      "execution_count": 14,
      "outputs": [
        {
          "output_type": "stream",
          "name": "stdout",
          "text": [
            "Alice's Salary: $800\n",
            "Bob's Salary with bonus: $1700\n"
          ]
        }
      ]
    },
    {
      "cell_type": "code",
      "source": [
        "# 15 Create a class Product with attributes name, price, and quantity. Implement a method total_price() that\n",
        "# calculates the total price of the product.\n",
        "\n",
        "class Product:\n",
        "    def __init__(self, name, price, quantity):\n",
        "        self.name = name\n",
        "        self.price = price\n",
        "        self.quantity = quantity\n",
        "\n",
        "    def total_price(self):\n",
        "        return self.price * self.quantity\n",
        "\n",
        "# Example usage\n",
        "product1 = Product(\"Laptop\", 800, 2)\n",
        "product2 = Product(\"Phone\", 500, 3)\n",
        "\n",
        "print(f\"Total price for {product1.name}: ${product1.total_price()}\")\n",
        "print(f\"Total price for {product2.name}: ${product2.total_price()}\")\n"
      ],
      "metadata": {
        "colab": {
          "base_uri": "https://localhost:8080/"
        },
        "id": "CYpI5hslg8C0",
        "outputId": "bebec2c0-7c90-4b4f-eab7-35bb8b7e28f4"
      },
      "execution_count": 15,
      "outputs": [
        {
          "output_type": "stream",
          "name": "stdout",
          "text": [
            "Total price for Laptop: $1600\n",
            "Total price for Phone: $1500\n"
          ]
        }
      ]
    },
    {
      "cell_type": "code",
      "source": [
        "# 16 Create a class Animal with an abstract method sound(). Create two derived classes Cow and Sheep that\n",
        "# implement the sound() method.\n",
        "\n",
        "from abc import ABC, abstractmethod\n",
        "\n",
        "# Abstract base class\n",
        "class Animal(ABC):\n",
        "    @abstractmethod\n",
        "    def sound(self):\n",
        "        pass\n",
        "\n",
        "# Derived class Cow\n",
        "class Cow(Animal):\n",
        "    def sound(self):\n",
        "        return \"Moo\"\n",
        "\n",
        "# Derived class Sheep\n",
        "class Sheep(Animal):\n",
        "    def sound(self):\n",
        "        return \"Baa\"\n",
        "\n",
        "# Example usage\n",
        "cow = Cow()\n",
        "sheep = Sheep()\n",
        "\n",
        "print(\"Cow says:\", cow.sound())\n",
        "print(\"Sheep says:\", sheep.sound())\n",
        "\n"
      ],
      "metadata": {
        "colab": {
          "base_uri": "https://localhost:8080/"
        },
        "id": "gQDd5HQPhPU8",
        "outputId": "94bb8720-1c8c-49fb-a41b-8e4fa215a59b"
      },
      "execution_count": 16,
      "outputs": [
        {
          "output_type": "stream",
          "name": "stdout",
          "text": [
            "Cow says: Moo\n",
            "Sheep says: Baa\n"
          ]
        }
      ]
    },
    {
      "cell_type": "code",
      "source": [
        "# 17 Create a class Book with attributes title, author, and year_published. Add a method get_book_info() that\n",
        "# returns a formatted string with the book's details.\n",
        "\n",
        "class Book:\n",
        "    def __init__(self, title, author, year_published):\n",
        "        self.title = title\n",
        "        self.author = author\n",
        "        self.year_published = year_published\n",
        "\n",
        "    def get_book_info(self):\n",
        "        return f\"'{self.title}' by {self.author} (Published in {self.year_published})\"\n",
        "\n",
        "# Example usage\n",
        "book1 = Book(\"To Kill a Mockingbird\", \"Harper Lee\", 1960)\n",
        "book2 = Book(\"1984\", \"George Orwell\", 1949)\n",
        "\n",
        "print(book1.get_book_info())\n",
        "print(book2.get_book_info())\n",
        "\n"
      ],
      "metadata": {
        "colab": {
          "base_uri": "https://localhost:8080/"
        },
        "id": "A9OjMkIdh2-s",
        "outputId": "f818233a-bde9-46b3-d698-7228df024bec"
      },
      "execution_count": 17,
      "outputs": [
        {
          "output_type": "stream",
          "name": "stdout",
          "text": [
            "'To Kill a Mockingbird' by Harper Lee (Published in 1960)\n",
            "'1984' by George Orwell (Published in 1949)\n"
          ]
        }
      ]
    },
    {
      "cell_type": "code",
      "source": [
        "# 18 Create a class House with attributes address and price. Create a derived class Mansion that adds an\n",
        "# attribute number_of_rooms.\n",
        "\n",
        "class House:   #base class\n",
        "    def __init__(self, address, price):\n",
        "        self.address = address\n",
        "        self.price = price\n",
        "\n",
        "    def get_info(self):\n",
        "        return f\"Address: {self.address}, Price: ${self.price}\"\n",
        "\n",
        "class Mansion(House):     #derived class\n",
        "    def __init__(self, address, price, number_of_rooms):\n",
        "        super().__init__(address, price)\n",
        "        self.number_of_rooms = number_of_rooms\n",
        "\n",
        "    def get_info(self):\n",
        "        base_info = super().get_info()\n",
        "        return f\"{base_info}, Rooms: {self.number_of_rooms}\"\n",
        "\n",
        "# Example usage\n",
        "house = House(\"123 Elm Street\", 250000)\n",
        "mansion = Mansion(\"456 Grand Avenue\", 1250000, 10)\n",
        "\n",
        "print(house.get_info())\n",
        "print(mansion.get_info())\n"
      ],
      "metadata": {
        "colab": {
          "base_uri": "https://localhost:8080/"
        },
        "id": "dKTtnzF6iR4S",
        "outputId": "e5a49a58-b840-47c7-f5eb-7e142be1d149"
      },
      "execution_count": 18,
      "outputs": [
        {
          "output_type": "stream",
          "name": "stdout",
          "text": [
            "Address: 123 Elm Street, Price: $250000\n",
            "Address: 456 Grand Avenue, Price: $1250000, Rooms: 10\n"
          ]
        }
      ]
    }
  ]
}